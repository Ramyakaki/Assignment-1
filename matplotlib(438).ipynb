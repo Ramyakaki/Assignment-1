{
 "cells": [
  {
   "cell_type": "code",
   "execution_count": 1,
   "id": "5a87ad2a",
   "metadata": {},
   "outputs": [],
   "source": [
    "import matplotlib.pyplot as plt"
   ]
  },
  {
   "cell_type": "code",
   "execution_count": 2,
   "id": "89b0e845",
   "metadata": {
    "scrolled": true
   },
   "outputs": [
    {
     "data": {
      "text/html": [
       "<div>\n",
       "<style scoped>\n",
       "    .dataframe tbody tr th:only-of-type {\n",
       "        vertical-align: middle;\n",
       "    }\n",
       "\n",
       "    .dataframe tbody tr th {\n",
       "        vertical-align: top;\n",
       "    }\n",
       "\n",
       "    .dataframe thead th {\n",
       "        text-align: right;\n",
       "    }\n",
       "</style>\n",
       "<table border=\"1\" class=\"dataframe\">\n",
       "  <thead>\n",
       "    <tr style=\"text-align: right;\">\n",
       "      <th></th>\n",
       "      <th>YEAR</th>\n",
       "      <th>Actual Rainfall: JUN</th>\n",
       "      <th>Actual Rainfall: JUL</th>\n",
       "      <th>Actual Rainfall: AUG</th>\n",
       "      <th>Actual Rainfall: SEPT</th>\n",
       "      <th>Actual Rainfall: JUN-SEPT</th>\n",
       "      <th>Departure Percentage: JUN</th>\n",
       "      <th>Departure Percentage: JUL</th>\n",
       "      <th>Departure Percentage: AUG</th>\n",
       "      <th>Departure Percentage: SEP</th>\n",
       "      <th>Departure Percentage: JUN-SEPT</th>\n",
       "    </tr>\n",
       "  </thead>\n",
       "  <tbody>\n",
       "    <tr>\n",
       "      <th>0</th>\n",
       "      <td>1901</td>\n",
       "      <td>109.1</td>\n",
       "      <td>241.4</td>\n",
       "      <td>284.2</td>\n",
       "      <td>121.9</td>\n",
       "      <td>756.6</td>\n",
       "      <td>-29.9</td>\n",
       "      <td>-16.7</td>\n",
       "      <td>11.0</td>\n",
       "      <td>-28.4</td>\n",
       "      <td>-13.1</td>\n",
       "    </tr>\n",
       "    <tr>\n",
       "      <th>1</th>\n",
       "      <td>1902</td>\n",
       "      <td>104.0</td>\n",
       "      <td>283.7</td>\n",
       "      <td>202.6</td>\n",
       "      <td>201.9</td>\n",
       "      <td>792.1</td>\n",
       "      <td>-33.6</td>\n",
       "      <td>-2.0</td>\n",
       "      <td>-21.0</td>\n",
       "      <td>18.7</td>\n",
       "      <td>-9.1</td>\n",
       "    </tr>\n",
       "    <tr>\n",
       "      <th>2</th>\n",
       "      <td>1903</td>\n",
       "      <td>114.8</td>\n",
       "      <td>293.0</td>\n",
       "      <td>279.6</td>\n",
       "      <td>204.4</td>\n",
       "      <td>891.9</td>\n",
       "      <td>-26.6</td>\n",
       "      <td>1.6</td>\n",
       "      <td>9.6</td>\n",
       "      <td>20.3</td>\n",
       "      <td>2.6</td>\n",
       "    </tr>\n",
       "    <tr>\n",
       "      <th>3</th>\n",
       "      <td>1904</td>\n",
       "      <td>158.8</td>\n",
       "      <td>266.4</td>\n",
       "      <td>210.4</td>\n",
       "      <td>129.6</td>\n",
       "      <td>765.2</td>\n",
       "      <td>2.8</td>\n",
       "      <td>-7.7</td>\n",
       "      <td>-17.4</td>\n",
       "      <td>-23.8</td>\n",
       "      <td>-11.8</td>\n",
       "    </tr>\n",
       "    <tr>\n",
       "      <th>4</th>\n",
       "      <td>1905</td>\n",
       "      <td>88.7</td>\n",
       "      <td>252.5</td>\n",
       "      <td>202.6</td>\n",
       "      <td>174.6</td>\n",
       "      <td>718.5</td>\n",
       "      <td>-43.6</td>\n",
       "      <td>-12.3</td>\n",
       "      <td>-21.2</td>\n",
       "      <td>3.2</td>\n",
       "      <td>-17.4</td>\n",
       "    </tr>\n",
       "    <tr>\n",
       "      <th>...</th>\n",
       "      <td>...</td>\n",
       "      <td>...</td>\n",
       "      <td>...</td>\n",
       "      <td>...</td>\n",
       "      <td>...</td>\n",
       "      <td>...</td>\n",
       "      <td>...</td>\n",
       "      <td>...</td>\n",
       "      <td>...</td>\n",
       "      <td>...</td>\n",
       "      <td>...</td>\n",
       "    </tr>\n",
       "    <tr>\n",
       "      <th>111</th>\n",
       "      <td>2012</td>\n",
       "      <td>117.8</td>\n",
       "      <td>250.2</td>\n",
       "      <td>262.4</td>\n",
       "      <td>193.5</td>\n",
       "      <td>823.9</td>\n",
       "      <td>-28.0</td>\n",
       "      <td>-13.4</td>\n",
       "      <td>0.5</td>\n",
       "      <td>11.5</td>\n",
       "      <td>-7.1</td>\n",
       "    </tr>\n",
       "    <tr>\n",
       "      <th>112</th>\n",
       "      <td>2013</td>\n",
       "      <td>219.8</td>\n",
       "      <td>310.0</td>\n",
       "      <td>254.7</td>\n",
       "      <td>152.7</td>\n",
       "      <td>937.2</td>\n",
       "      <td>34.4</td>\n",
       "      <td>7.3</td>\n",
       "      <td>-2.4</td>\n",
       "      <td>-12.0</td>\n",
       "      <td>5.6</td>\n",
       "    </tr>\n",
       "    <tr>\n",
       "      <th>113</th>\n",
       "      <td>2014</td>\n",
       "      <td>95.2</td>\n",
       "      <td>261.1</td>\n",
       "      <td>237.4</td>\n",
       "      <td>187.9</td>\n",
       "      <td>781.7</td>\n",
       "      <td>-41.7</td>\n",
       "      <td>-9.6</td>\n",
       "      <td>-9.0</td>\n",
       "      <td>8.3</td>\n",
       "      <td>-11.9</td>\n",
       "    </tr>\n",
       "    <tr>\n",
       "      <th>114</th>\n",
       "      <td>2015</td>\n",
       "      <td>189.0</td>\n",
       "      <td>240.8</td>\n",
       "      <td>204.2</td>\n",
       "      <td>131.8</td>\n",
       "      <td>764.9</td>\n",
       "      <td>15.5</td>\n",
       "      <td>-16.7</td>\n",
       "      <td>-21.9</td>\n",
       "      <td>-24.0</td>\n",
       "      <td>-13.8</td>\n",
       "    </tr>\n",
       "    <tr>\n",
       "      <th>115</th>\n",
       "      <td>2016</td>\n",
       "      <td>147.6</td>\n",
       "      <td>309.2</td>\n",
       "      <td>239.6</td>\n",
       "      <td>168.0</td>\n",
       "      <td>864.4</td>\n",
       "      <td>-9.8</td>\n",
       "      <td>6.9</td>\n",
       "      <td>-8.3</td>\n",
       "      <td>-3.1</td>\n",
       "      <td>-2.6</td>\n",
       "    </tr>\n",
       "  </tbody>\n",
       "</table>\n",
       "<p>116 rows × 11 columns</p>\n",
       "</div>"
      ],
      "text/plain": [
       "     YEAR  Actual Rainfall: JUN  Actual Rainfall: JUL  Actual Rainfall: AUG  \\\n",
       "0    1901                 109.1                 241.4                 284.2   \n",
       "1    1902                 104.0                 283.7                 202.6   \n",
       "2    1903                 114.8                 293.0                 279.6   \n",
       "3    1904                 158.8                 266.4                 210.4   \n",
       "4    1905                  88.7                 252.5                 202.6   \n",
       "..    ...                   ...                   ...                   ...   \n",
       "111  2012                 117.8                 250.2                 262.4   \n",
       "112  2013                 219.8                 310.0                 254.7   \n",
       "113  2014                  95.2                 261.1                 237.4   \n",
       "114  2015                 189.0                 240.8                 204.2   \n",
       "115  2016                 147.6                 309.2                 239.6   \n",
       "\n",
       "     Actual Rainfall: SEPT  Actual Rainfall: JUN-SEPT  \\\n",
       "0                    121.9                      756.6   \n",
       "1                    201.9                      792.1   \n",
       "2                    204.4                      891.9   \n",
       "3                    129.6                      765.2   \n",
       "4                    174.6                      718.5   \n",
       "..                     ...                        ...   \n",
       "111                  193.5                      823.9   \n",
       "112                  152.7                      937.2   \n",
       "113                  187.9                      781.7   \n",
       "114                  131.8                      764.9   \n",
       "115                  168.0                      864.4   \n",
       "\n",
       "     Departure Percentage: JUN  Departure Percentage: JUL  \\\n",
       "0                        -29.9                      -16.7   \n",
       "1                        -33.6                       -2.0   \n",
       "2                        -26.6                        1.6   \n",
       "3                          2.8                       -7.7   \n",
       "4                        -43.6                      -12.3   \n",
       "..                         ...                        ...   \n",
       "111                      -28.0                      -13.4   \n",
       "112                       34.4                        7.3   \n",
       "113                      -41.7                       -9.6   \n",
       "114                       15.5                      -16.7   \n",
       "115                       -9.8                        6.9   \n",
       "\n",
       "     Departure Percentage: AUG  Departure Percentage: SEP  \\\n",
       "0                         11.0                      -28.4   \n",
       "1                        -21.0                       18.7   \n",
       "2                          9.6                       20.3   \n",
       "3                        -17.4                      -23.8   \n",
       "4                        -21.2                        3.2   \n",
       "..                         ...                        ...   \n",
       "111                        0.5                       11.5   \n",
       "112                       -2.4                      -12.0   \n",
       "113                       -9.0                        8.3   \n",
       "114                      -21.9                      -24.0   \n",
       "115                       -8.3                       -3.1   \n",
       "\n",
       "     Departure Percentage: JUN-SEPT  \n",
       "0                             -13.1  \n",
       "1                              -9.1  \n",
       "2                               2.6  \n",
       "3                             -11.8  \n",
       "4                             -17.4  \n",
       "..                              ...  \n",
       "111                            -7.1  \n",
       "112                             5.6  \n",
       "113                           -11.9  \n",
       "114                           -13.8  \n",
       "115                            -2.6  \n",
       "\n",
       "[116 rows x 11 columns]"
      ]
     },
     "execution_count": 2,
     "metadata": {},
     "output_type": "execute_result"
    }
   ],
   "source": [
    "import pandas as pd\n",
    "data = pd.read_csv(\"India_rainfall.csv\")\n",
    "data"
   ]
  },
  {
   "cell_type": "code",
   "execution_count": 3,
   "id": "5a101401",
   "metadata": {},
   "outputs": [
    {
     "name": "stdout",
     "output_type": "stream",
     "text": [
      "   YEAR  Actual Rainfall: JUN  Actual Rainfall: JUL  Actual Rainfall: AUG  \\\n",
      "0  1901                 109.1                 241.4                 284.2   \n",
      "1  1902                 104.0                 283.7                 202.6   \n",
      "2  1903                 114.8                 293.0                 279.6   \n",
      "3  1904                 158.8                 266.4                 210.4   \n",
      "4  1905                  88.7                 252.5                 202.6   \n",
      "5  1906                 176.9                 285.8                 259.8   \n",
      "6  1907                 150.1                 223.5                 311.6   \n",
      "7  1908                 125.4                 331.5                 317.0   \n",
      "8  1909                 205.0                 318.1                 239.9   \n",
      "9  1910                 208.0                 248.1                 296.9   \n",
      "\n",
      "   Actual Rainfall: SEPT  Actual Rainfall: JUN-SEPT  \\\n",
      "0                  121.9                      756.6   \n",
      "1                  201.9                      792.1   \n",
      "2                  204.4                      891.9   \n",
      "3                  129.6                      765.2   \n",
      "4                  174.6                      718.5   \n",
      "5                  179.8                      902.3   \n",
      "6                   95.1                      780.3   \n",
      "7                  153.8                      927.7   \n",
      "8                  164.9                      927.9   \n",
      "9                  187.2                      940.2   \n",
      "\n",
      "   Departure Percentage: JUN  Departure Percentage: JUL  \\\n",
      "0                      -29.9                      -16.7   \n",
      "1                      -33.6                       -2.0   \n",
      "2                      -26.6                        1.6   \n",
      "3                        2.8                       -7.7   \n",
      "4                      -43.6                      -12.3   \n",
      "5                       14.2                       -1.1   \n",
      "6                       -3.3                      -22.9   \n",
      "7                      -19.4                       15.6   \n",
      "8                       31.8                       11.1   \n",
      "9                       33.5                      -14.5   \n",
      "\n",
      "   Departure Percentage: AUG  Departure Percentage: SEP  \\\n",
      "0                       11.0                      -28.4   \n",
      "1                      -21.0                       18.7   \n",
      "2                        9.6                       20.3   \n",
      "3                      -17.4                      -23.8   \n",
      "4                      -21.2                        3.2   \n",
      "5                        2.1                        6.4   \n",
      "6                       23.5                      -44.7   \n",
      "7                       25.6                       -9.5   \n",
      "8                       -6.0                       -2.7   \n",
      "9                       16.9                       10.5   \n",
      "\n",
      "   Departure Percentage: JUN-SEPT  \n",
      "0                           -13.1  \n",
      "1                            -9.1  \n",
      "2                             2.6  \n",
      "3                           -11.8  \n",
      "4                           -17.4  \n",
      "5                             4.0  \n",
      "6                           -10.0  \n",
      "7                             7.4  \n",
      "8                             7.1  \n",
      "9                             8.1  \n"
     ]
    }
   ],
   "source": [
    "a=data.head(10)\n",
    "print(a)"
   ]
  },
  {
   "cell_type": "code",
   "execution_count": 4,
   "id": "db2b9aff",
   "metadata": {},
   "outputs": [
    {
     "data": {
      "text/plain": [
       "(10, 11)"
      ]
     },
     "execution_count": 4,
     "metadata": {},
     "output_type": "execute_result"
    }
   ],
   "source": [
    "a.shape"
   ]
  },
  {
   "cell_type": "code",
   "execution_count": 5,
   "id": "dec993c0",
   "metadata": {},
   "outputs": [
    {
     "name": "stdout",
     "output_type": "stream",
     "text": [
      "   YEAR  Actual Rainfall: JUN  Actual Rainfall: JUL\n",
      "0  1901                 109.1                 241.4\n",
      "1  1902                 104.0                 283.7\n",
      "2  1903                 114.8                 293.0\n",
      "3  1904                 158.8                 266.4\n",
      "4  1905                  88.7                 252.5\n",
      "5  1906                 176.9                 285.8\n",
      "6  1907                 150.1                 223.5\n",
      "7  1908                 125.4                 331.5\n",
      "8  1909                 205.0                 318.1\n",
      "9  1910                 208.0                 248.1\n"
     ]
    }
   ],
   "source": [
    "b=a[['YEAR','Actual Rainfall: JUN','Actual Rainfall: JUL']]\n",
    "print(b)"
   ]
  },
  {
   "cell_type": "code",
   "execution_count": 6,
   "id": "2d847688",
   "metadata": {},
   "outputs": [
    {
     "name": "stdout",
     "output_type": "stream",
     "text": [
      "             YEAR  Actual Rainfall: JUN  Actual Rainfall: JUL\n",
      "count    10.00000              10.00000             10.000000\n",
      "mean   1905.50000             144.08000            274.400000\n",
      "std       3.02765              42.46606             34.395768\n",
      "min    1901.00000              88.70000            223.500000\n",
      "25%    1903.25000             110.52500            249.200000\n",
      "50%    1905.50000             137.75000            275.050000\n",
      "75%    1907.75000             172.37500            291.200000\n",
      "max    1910.00000             208.00000            331.500000\n"
     ]
    }
   ],
   "source": [
    "print(b.describe())"
   ]
  },
  {
   "cell_type": "code",
   "execution_count": 8,
   "id": "977d5c94",
   "metadata": {},
   "outputs": [
    {
     "name": "stdout",
     "output_type": "stream",
     "text": [
      "<matplotlib.collections.PathCollection object at 0x000002C0C86CFFA0>\n"
     ]
    },
    {
     "data": {
      "text/plain": [
       "<matplotlib.colorbar.Colorbar at 0x2c0c8715070>"
      ]
     },
     "execution_count": 8,
     "metadata": {},
     "output_type": "execute_result"
    },
    {
     "data": {
      "image/png": "[encoded data removed]",
      "text/plain": [
       "<Figure size 640x480 with 2 Axes>"
      ]
     },
     "metadata": {},
     "output_type": "display_data"
    }
   ],
   "source": [
    "print(plt.scatter(a['YEAR'], a['Actual Rainfall: JUN']))\n",
    "plt.title(\"Scatter Plot\")\n",
    "plt.xlabel('year')\n",
    "plt.ylabel('Rainfall in june')\n",
    "plt.colorbar()\n",
    "#plt.show()"
   ]
  },
  {
   "cell_type": "code",
   "execution_count": 38,
   "id": "19d9d116",
   "metadata": {},
   "outputs": [
    {
     "data": {
      "text/plain": [
       "<matplotlib.collections.PathCollection at 0x22e98a413d0>"
      ]
     },
     "execution_count": 38,
     "metadata": {},
     "output_type": "execute_result"
    },
    {
     "data": {
      "image/png": "[encoded data removed]",
      "text/plain": [
       "<Figure size 640x480 with 1 Axes>"
      ]
     },
     "metadata": {},
     "output_type": "display_data"
    }
   ],
   "source": [
    "plt.scatter(a['YEAR'],a['Actual Rainfall: JUN'])"
   ]
  },
  {
   "cell_type": "code",
   "execution_count": 37,
   "id": "b85eb1e8",
   "metadata": {},
   "outputs": [
    {
     "data": {
      "text/plain": [
       "<BarContainer object of 10 artists>"
      ]
     },
     "execution_count": 37,
     "metadata": {},
     "output_type": "execute_result"
    },
    {
     "data": {
      "image/png": "[encoded data removed]",
      "text/plain": [
       "<Figure size 640x480 with 1 Axes>"
      ]
     },
     "metadata": {},
     "output_type": "display_data"
    }
   ],
   "source": [
    "plt.bar(a['YEAR'],a['Actual Rainfall: JUN'])\n"
   ]
  },
  {
   "cell_type": "code",
   "execution_count": 44,
   "id": "0eef2584",
   "metadata": {},
   "outputs": [
    {
     "data": {
      "text/plain": [
       "(array([ 6.,  6., 20., 19., 28., 15., 15.,  4.,  2.,  1.]),\n",
       " array([ 85.7 , 104.85, 124.  , 143.15, 162.3 , 181.45, 200.6 , 219.75,\n",
       "        238.9 , 258.05, 277.2 ]),\n",
       " <BarContainer object of 10 artists>)"
      ]
     },
     "execution_count": 44,
     "metadata": {},
     "output_type": "execute_result"
    },
    {
     "data": {
      "image/png": "[encoded data removed]",
      "text/plain": [
       "<Figure size 640x480 with 1 Axes>"
      ]
     },
     "metadata": {},
     "output_type": "display_data"
    }
   ],
   "source": [
    "plt.hist(data['Actual Rainfall: JUN'])"
   ]
  },
  {
   "cell_type": "code",
   "execution_count": 45,
   "id": "4d2d136e",
   "metadata": {},
   "outputs": [
    {
     "data": {
      "text/plain": [
       "{'whiskers': [<matplotlib.lines.Line2D at 0x22e9a0f32e0>,\n",
       "  <matplotlib.lines.Line2D at 0x22e9a0f35b0>],\n",
       " 'caps': [<matplotlib.lines.Line2D at 0x22e9a0f3880>,\n",
       "  <matplotlib.lines.Line2D at 0x22e9a0f3b50>],\n",
       " 'boxes': [<matplotlib.lines.Line2D at 0x22e9a0e3fd0>],\n",
       " 'medians': [<matplotlib.lines.Line2D at 0x22e9a0f3e20>],\n",
       " 'fliers': [<matplotlib.lines.Line2D at 0x22e9a101130>],\n",
       " 'means': []}"
      ]
     },
     "execution_count": 45,
     "metadata": {},
     "output_type": "execute_result"
    },
    {
     "data": {
      "image/png": "[encoded data removed]",
      "text/plain": [
       "<Figure size 640x480 with 1 Axes>"
      ]
     },
     "metadata": {},
     "output_type": "display_data"
    }
   ],
   "source": [
    "plt.boxplot(data['Actual Rainfall: JUN'])"
   ]
  },
  {
   "cell_type": "markdown",
   "id": "5a8d8106",
   "metadata": {},
   "source": [
    "Matplotlib was used for visualization.Imported matplotlib library and data visualization was performed using matplotlib on dataset.For data visualization line plot, bar plot, scatter plot, histogram and box plot were used."
   ]
  }
 ],
 "metadata": {
  "kernelspec": {
   "display_name": "Python 3 (ipykernel)",
   "language": "python",
   "name": "python3"
  },
  "language_info": {
   "codemirror_mode": {
    "name": "ipython",
    "version": 3
   },
   "file_extension": ".py",
   "mimetype": "text/x-python",
   "name": "python",
   "nbconvert_exporter": "python",
   "pygments_lexer": "ipython3",
   "version": "3.9.13"
  }
 },
 "nbformat": 4,
 "nbformat_minor": 5
}
