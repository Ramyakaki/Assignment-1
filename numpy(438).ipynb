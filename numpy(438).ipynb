{
 "cells": [
  {
   "cell_type": "code",
   "execution_count": 1,
   "id": "c3df2b00",
   "metadata": {},
   "outputs": [],
   "source": [
    "import numpy as np"
   ]
  },
  {
   "cell_type": "code",
   "execution_count": 2,
   "id": "a482ef33",
   "metadata": {},
   "outputs": [
    {
     "name": "stdout",
     "output_type": "stream",
     "text": [
      "[ 7  9 11 13  8]\n"
     ]
    }
   ],
   "source": [
    "arr1=np.array([1, 2, 3, 4, 5])\n",
    "arr2=np.array([6,7,8,9,3])\n",
    "add=arr1+arr2\n",
    "print(add)"
   ]
  },
  {
   "cell_type": "code",
   "execution_count": 3,
   "id": "832016b1",
   "metadata": {},
   "outputs": [
    {
     "name": "stdout",
     "output_type": "stream",
     "text": [
      "[ 6 14 24 36 15]\n"
     ]
    }
   ],
   "source": [
    "arr1=np.array([1, 2, 3, 4, 5])\n",
    "arr2=np.array([6,7,8,9,3])\n",
    "mul=arr1*arr2\n",
    "print(mul)"
   ]
  },
  {
   "cell_type": "code",
   "execution_count": 5,
   "id": "119dc0ce",
   "metadata": {},
   "outputs": [
    {
     "name": "stdout",
     "output_type": "stream",
     "text": [
      "[ 5  5  5  5 -2]\n"
     ]
    }
   ],
   "source": [
    "arr1=np.array([1, 2, 3, 4, 5])\n",
    "arr2=np.array([6,7,8,9,3])\n",
    "sub=arr2-arr1\n",
    "print(sub)"
   ]
  },
  {
   "cell_type": "code",
   "execution_count": 7,
   "id": "a2a53249",
   "metadata": {},
   "outputs": [
    {
     "name": "stdout",
     "output_type": "stream",
     "text": [
      "[6 3 2 2 0]\n"
     ]
    }
   ],
   "source": [
    "arr1=np.array([1, 2, 3, 4, 5])\n",
    "arr2=np.array([6,7,8,9,3])\n",
    "div=arr2//arr1\n",
    "print(div)"
   ]
  },
  {
   "cell_type": "code",
   "execution_count": 9,
   "id": "b84e1565",
   "metadata": {},
   "outputs": [
    {
     "name": "stdout",
     "output_type": "stream",
     "text": [
      "[1 2 3 4 2]\n"
     ]
    }
   ],
   "source": [
    "arr1=np.array([1, 2, 3, 4, 5])\n",
    "arr2=np.array([6,7,8,9,3])\n",
    "que=arr1%arr2\n",
    "print(que)"
   ]
  },
  {
   "cell_type": "code",
   "execution_count": 10,
   "id": "109374ef",
   "metadata": {},
   "outputs": [
    {
     "name": "stdout",
     "output_type": "stream",
     "text": [
      "[     1    128   6561 262144    125]\n"
     ]
    }
   ],
   "source": [
    "arr1=np.array([1, 2, 3, 4, 5])\n",
    "arr2=np.array([6,7,8,9,3])\n",
    "squ=arr1**arr2\n",
    "print(squ)"
   ]
  },
  {
   "cell_type": "code",
   "execution_count": null,
   "id": "2af8ec48",
   "metadata": {},
   "outputs": [],
   "source": [
    "Numpy is for fast operations on arrays, including mathematical,logical and basic statistical operations.firstly import numpy create two arrays and perform basic mathematical operations on them.\n",
    "operations such as addition,multiplication,subtraction,division,modulus,square"
   ]
  }
 ],
 "metadata": {
  "kernelspec": {
   "display_name": "Python 3 (ipykernel)",
   "language": "python",
   "name": "python3"
  },
  "language_info": {
   "codemirror_mode": {
    "name": "ipython",
    "version": 3
   },
   "file_extension": ".py",
   "mimetype": "text/x-python",
   "name": "python",
   "nbconvert_exporter": "python",
   "pygments_lexer": "ipython3",
   "version": "3.9.13"
  }
 },
 "nbformat": 4,
 "nbformat_minor": 5
}
