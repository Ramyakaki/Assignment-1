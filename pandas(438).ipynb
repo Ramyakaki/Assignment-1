{
 "cells": [
  {
   "cell_type": "code",
   "execution_count": 3,
   "id": "3bb5611e",
   "metadata": {},
   "outputs": [],
   "source": [
    "import pandas as pd"
   ]
  },
  {
   "cell_type": "code",
   "execution_count": 4,
   "id": "c640e0d9",
   "metadata": {},
   "outputs": [
    {
     "name": "stdout",
     "output_type": "stream",
     "text": [
      "(['ram', 'ramu', 'mani', 'rahul', 'swetha'], [22, 24, 25, 21, 22], [22000, 20000, 13000, 15000, 14000])\n",
      "       0      1      2      3       4\n",
      "0    ram   ramu   mani  rahul  swetha\n",
      "1     22     24     25     21      22\n",
      "2  22000  20000  13000  15000   14000\n"
     ]
    }
   ],
   "source": [
    "emp=['ram','ramu','mani','rahul','swetha']\n",
    "age=[22,24,25,21,22]\n",
    "salary=[22000,20000,13000,15000,14000]\n",
    "table=(emp,age,salary)\n",
    "print(table)\n",
    "df=pd.DataFrame(table)\n",
    "print(df)"
   ]
  },
  {
   "cell_type": "code",
   "execution_count": 5,
   "id": "2bb4952c",
   "metadata": {},
   "outputs": [
    {
     "name": "stdout",
     "output_type": "stream",
     "text": [
      "[22, 24, 25, 21, 22]\n"
     ]
    }
   ],
   "source": [
    "print(table[1])"
   ]
  },
  {
   "cell_type": "code",
   "execution_count": 6,
   "id": "ed9f88e7",
   "metadata": {},
   "outputs": [
    {
     "ename": "TypeError",
     "evalue": "'DataFrame' object is not callable",
     "output_type": "error",
     "traceback": [
      "\u001b[1;31m---------------------------------------------------------------------------\u001b[0m",
      "\u001b[1;31mTypeError\u001b[0m                                 Traceback (most recent call last)",
      "\u001b[1;32m~\\AppData\\Local\\Temp\\ipykernel_8532\\1003208195.py\u001b[0m in \u001b[0;36m<module>\u001b[1;34m\u001b[0m\n\u001b[1;32m----> 1\u001b[1;33m \u001b[0mprint\u001b[0m\u001b[1;33m(\u001b[0m\u001b[0mdf\u001b[0m\u001b[1;33m(\u001b[0m\u001b[1;33m[\u001b[0m\u001b[1;36m1\u001b[0m\u001b[1;33m,\u001b[0m\u001b[1;36m2\u001b[0m\u001b[1;33m]\u001b[0m\u001b[1;33m)\u001b[0m\u001b[1;33m)\u001b[0m\u001b[1;33m\u001b[0m\u001b[1;33m\u001b[0m\u001b[0m\n\u001b[0m",
      "\u001b[1;31mTypeError\u001b[0m: 'DataFrame' object is not callable"
     ]
    }
   ],
   "source": [
    "print(df([1,2]))"
   ]
  },
  {
   "cell_type": "code",
   "execution_count": 7,
   "id": "baba6dc7",
   "metadata": {},
   "outputs": [],
   "source": [
    "#other"
   ]
  },
  {
   "cell_type": "code",
   "execution_count": 8,
   "id": "2f1de1b5",
   "metadata": {},
   "outputs": [
    {
     "name": "stdout",
     "output_type": "stream",
     "text": [
      "     Name  Age  Salary\n",
      "0     ram   22   22000\n",
      "1    ramu   24   20000\n",
      "2    mani   25   13000\n",
      "3   rahul   21   15000\n",
      "4  swetha   22   14000\n"
     ]
    }
   ],
   "source": [
    "emp = {'Name': ['ram', 'ramu', 'mani', 'rahul','swetha'],\n",
    "        'Age': [22,24,25,21,22],\n",
    "        'Salary': [22000,20000,13000,15000,14000]}\n",
    "df = pd.DataFrame(emp)\n",
    "print(df)"
   ]
  },
  {
   "cell_type": "code",
   "execution_count": 9,
   "id": "befe82da",
   "metadata": {},
   "outputs": [
    {
     "name": "stdout",
     "output_type": "stream",
     "text": [
      "0       ram\n",
      "1      ramu\n",
      "2      mani\n",
      "3     rahul\n",
      "4    swetha\n",
      "Name: Name, dtype: object\n"
     ]
    }
   ],
   "source": [
    "print(df['Name'])"
   ]
  },
  {
   "cell_type": "code",
   "execution_count": 10,
   "id": "339bd24f",
   "metadata": {},
   "outputs": [
    {
     "name": "stdout",
     "output_type": "stream",
     "text": [
      "Name       ramu\n",
      "Age          24\n",
      "Salary    20000\n",
      "Name: 1, dtype: object\n"
     ]
    }
   ],
   "source": [
    "print(df.loc[1])"
   ]
  },
  {
   "cell_type": "code",
   "execution_count": 11,
   "id": "6f891a58",
   "metadata": {},
   "outputs": [
    {
     "name": "stdout",
     "output_type": "stream",
     "text": [
      "     Name  Age  Salary\n",
      "0     ram   22   22000\n",
      "1    ramu   24   20000\n",
      "3   rahul   21   15000\n",
      "4  swetha   22   14000\n"
     ]
    }
   ],
   "source": [
    "filtered_df = df[df['Salary']>13000]\n",
    "print(filtered_df)"
   ]
  },
  {
   "cell_type": "code",
   "execution_count": 12,
   "id": "0c8b5c3b",
   "metadata": {},
   "outputs": [
    {
     "name": "stdout",
     "output_type": "stream",
     "text": [
      "             Age        Salary\n",
      "count   5.000000      5.000000\n",
      "mean   22.800000  16800.000000\n",
      "std     1.643168   3962.322551\n",
      "min    21.000000  13000.000000\n",
      "25%    22.000000  14000.000000\n",
      "50%    22.000000  15000.000000\n",
      "75%    24.000000  20000.000000\n",
      "max    25.000000  22000.000000\n"
     ]
    }
   ],
   "source": [
    "print(df.describe())"
   ]
  },
  {
   "cell_type": "code",
   "execution_count": 13,
   "id": "c2450958",
   "metadata": {},
   "outputs": [
    {
     "name": "stdout",
     "output_type": "stream",
     "text": [
      "     Name  Age  Salary\n",
      "2    mani   25   13000\n",
      "3   rahul   21   15000\n",
      "0     ram   22   22000\n",
      "1    ramu   24   20000\n",
      "4  swetha   22   14000\n"
     ]
    }
   ],
   "source": [
    "sorted_df = df.sort_values('Name')\n",
    "print(sorted_df)"
   ]
  },
  {
   "cell_type": "code",
   "execution_count": 14,
   "id": "6a42a560",
   "metadata": {},
   "outputs": [
    {
     "name": "stdout",
     "output_type": "stream",
     "text": [
      "     Name  Age  Salary\n",
      "2    mani   25   13000\n",
      "4  swetha   22   14000\n",
      "3   rahul   21   15000\n",
      "1    ramu   24   20000\n",
      "0     ram   22   22000\n"
     ]
    }
   ],
   "source": [
    "sorted_df2 = df.sort_values('Salary')\n",
    "print(sorted_df2)"
   ]
  },
  {
   "cell_type": "code",
   "execution_count": 15,
   "id": "8b3347ff",
   "metadata": {},
   "outputs": [
    {
     "name": "stdout",
     "output_type": "stream",
     "text": [
      "     Name  Age  Salary  Gender\n",
      "0     ram   22   22000  Female\n",
      "1    ramu   24   20000  Female\n",
      "2    mani   25   13000    Male\n",
      "3   rahul   21   15000    Male\n",
      "4  swetha   22   14000    Male\n"
     ]
    }
   ],
   "source": [
    "df['Gender'] = ['Female', 'Female', 'Male', 'Male','Male']\n",
    "print(df)"
   ]
  },
  {
   "cell_type": "code",
   "execution_count": 16,
   "id": "c4f173a2",
   "metadata": {},
   "outputs": [
    {
     "name": "stdout",
     "output_type": "stream",
     "text": [
      "     Name  Age  Salary  Gender\n",
      "2    mani   25   13000  Female\n",
      "4  swetha   22   14000  Female\n",
      "3   rahul   21   15000    Male\n",
      "1    ramu   24   20000    Male\n",
      "0     ram   22   22000    Male\n"
     ]
    }
   ],
   "source": [
    "sorted_df2['Gender']=['Female', 'Female', 'Male', 'Male','Male']\n",
    "print(sorted_df2)"
   ]
  },
  {
   "cell_type": "code",
   "execution_count": 17,
   "id": "285df87f",
   "metadata": {},
   "outputs": [],
   "source": [
    "#Whether to drop labels from the index (0 or ‘index’) or columns (1 or ‘columns’)."
   ]
  },
  {
   "cell_type": "code",
   "execution_count": 18,
   "id": "faab2619",
   "metadata": {},
   "outputs": [
    {
     "data": {
      "text/html": [
       "<div>\n",
       "<style scoped>\n",
       "    .dataframe tbody tr th:only-of-type {\n",
       "        vertical-align: middle;\n",
       "    }\n",
       "\n",
       "    .dataframe tbody tr th {\n",
       "        vertical-align: top;\n",
       "    }\n",
       "\n",
       "    .dataframe thead th {\n",
       "        text-align: right;\n",
       "    }\n",
       "</style>\n",
       "<table border=\"1\" class=\"dataframe\">\n",
       "  <thead>\n",
       "    <tr style=\"text-align: right;\">\n",
       "      <th></th>\n",
       "      <th>Name</th>\n",
       "      <th>Age</th>\n",
       "      <th>Salary</th>\n",
       "    </tr>\n",
       "  </thead>\n",
       "  <tbody>\n",
       "    <tr>\n",
       "      <th>2</th>\n",
       "      <td>mani</td>\n",
       "      <td>25</td>\n",
       "      <td>13000</td>\n",
       "    </tr>\n",
       "    <tr>\n",
       "      <th>4</th>\n",
       "      <td>swetha</td>\n",
       "      <td>22</td>\n",
       "      <td>14000</td>\n",
       "    </tr>\n",
       "    <tr>\n",
       "      <th>3</th>\n",
       "      <td>rahul</td>\n",
       "      <td>21</td>\n",
       "      <td>15000</td>\n",
       "    </tr>\n",
       "    <tr>\n",
       "      <th>1</th>\n",
       "      <td>ramu</td>\n",
       "      <td>24</td>\n",
       "      <td>20000</td>\n",
       "    </tr>\n",
       "    <tr>\n",
       "      <th>0</th>\n",
       "      <td>ram</td>\n",
       "      <td>22</td>\n",
       "      <td>22000</td>\n",
       "    </tr>\n",
       "  </tbody>\n",
       "</table>\n",
       "</div>"
      ],
      "text/plain": [
       "     Name  Age  Salary\n",
       "2    mani   25   13000\n",
       "4  swetha   22   14000\n",
       "3   rahul   21   15000\n",
       "1    ramu   24   20000\n",
       "0     ram   22   22000"
      ]
     },
     "execution_count": 18,
     "metadata": {},
     "output_type": "execute_result"
    }
   ],
   "source": [
    "sorted_df2.drop(['Gender'], axis=1)"
   ]
  },
  {
   "cell_type": "code",
   "execution_count": 19,
   "id": "473644ab",
   "metadata": {},
   "outputs": [
    {
     "data": {
      "text/html": [
       "<div>\n",
       "<style scoped>\n",
       "    .dataframe tbody tr th:only-of-type {\n",
       "        vertical-align: middle;\n",
       "    }\n",
       "\n",
       "    .dataframe tbody tr th {\n",
       "        vertical-align: top;\n",
       "    }\n",
       "\n",
       "    .dataframe thead th {\n",
       "        text-align: right;\n",
       "    }\n",
       "</style>\n",
       "<table border=\"1\" class=\"dataframe\">\n",
       "  <thead>\n",
       "    <tr style=\"text-align: right;\">\n",
       "      <th></th>\n",
       "      <th>Name</th>\n",
       "      <th>Age</th>\n",
       "      <th>Salary</th>\n",
       "      <th>Gender</th>\n",
       "    </tr>\n",
       "  </thead>\n",
       "  <tbody>\n",
       "    <tr>\n",
       "      <th>2</th>\n",
       "      <td>mani</td>\n",
       "      <td>25</td>\n",
       "      <td>13000</td>\n",
       "      <td>Female</td>\n",
       "    </tr>\n",
       "    <tr>\n",
       "      <th>4</th>\n",
       "      <td>swetha</td>\n",
       "      <td>22</td>\n",
       "      <td>14000</td>\n",
       "      <td>Female</td>\n",
       "    </tr>\n",
       "    <tr>\n",
       "      <th>3</th>\n",
       "      <td>rahul</td>\n",
       "      <td>21</td>\n",
       "      <td>15000</td>\n",
       "      <td>Male</td>\n",
       "    </tr>\n",
       "    <tr>\n",
       "      <th>1</th>\n",
       "      <td>ramu</td>\n",
       "      <td>24</td>\n",
       "      <td>20000</td>\n",
       "      <td>Male</td>\n",
       "    </tr>\n",
       "  </tbody>\n",
       "</table>\n",
       "</div>"
      ],
      "text/plain": [
       "     Name  Age  Salary  Gender\n",
       "2    mani   25   13000  Female\n",
       "4  swetha   22   14000  Female\n",
       "3   rahul   21   15000    Male\n",
       "1    ramu   24   20000    Male"
      ]
     },
     "execution_count": 19,
     "metadata": {},
     "output_type": "execute_result"
    }
   ],
   "source": [
    "sorted_df2.drop([0])"
   ]
  },
  {
   "cell_type": "code",
   "execution_count": 20,
   "id": "c97b7a1d",
   "metadata": {},
   "outputs": [
    {
     "name": "stdout",
     "output_type": "stream",
     "text": [
      "              Age   Salary\n",
      "Gender                    \n",
      "Female  23.000000  21000.0\n",
      "Male    22.666667  14000.0\n"
     ]
    }
   ],
   "source": [
    "grouped_df2=df.groupby('Gender').mean()\n",
    "print(grouped_df2)"
   ]
  },
  {
   "cell_type": "code",
   "execution_count": 28,
   "id": "e39e0a6a",
   "metadata": {},
   "outputs": [
    {
     "name": "stdout",
     "output_type": "stream",
     "text": [
      "Name      swetha\n",
      "Age           25\n",
      "Salary     22000\n",
      "Gender      Male\n",
      "dtype: object\n"
     ]
    }
   ],
   "source": [
    "print(sorted_df2.max())"
   ]
  },
  {
   "cell_type": "code",
   "execution_count": 29,
   "id": "8110b10a",
   "metadata": {},
   "outputs": [
    {
     "name": "stdout",
     "output_type": "stream",
     "text": [
      "Name        mani\n",
      "Age           21\n",
      "Salary     13000\n",
      "Gender    Female\n",
      "dtype: object\n"
     ]
    }
   ],
   "source": [
    "print(sorted_df2.min())"
   ]
  },
  {
   "cell_type": "code",
   "execution_count": 22,
   "id": "090aebe0",
   "metadata": {},
   "outputs": [
    {
     "name": "stdout",
     "output_type": "stream",
     "text": [
      "     Name   Age   Salary\n",
      "0     ram  22.0  22000.0\n",
      "1    ramu  24.0  20000.0\n",
      "2    mani  25.0  13000.0\n",
      "3   rahul  21.0      NaN\n",
      "4  swetha   NaN  14000.0\n"
     ]
    }
   ],
   "source": [
    "emp = {'Name': ['ram', 'ramu','mani', 'rahul','swetha'],\n",
    "        'Age': [22,24,25,21,None],\n",
    "        'Salary': [22000,20000,13000,None,14000]}\n",
    "df = pd.DataFrame(emp)\n",
    "print(df)"
   ]
  },
  {
   "cell_type": "code",
   "execution_count": 23,
   "id": "35ff4339",
   "metadata": {},
   "outputs": [
    {
     "name": "stdout",
     "output_type": "stream",
     "text": [
      "Name      0\n",
      "Age       1\n",
      "Salary    1\n",
      "dtype: int64\n"
     ]
    }
   ],
   "source": [
    "print(df.isnull().sum())"
   ]
  },
  {
   "cell_type": "code",
   "execution_count": 49,
   "id": "90c25a1f",
   "metadata": {},
   "outputs": [
    {
     "name": "stdout",
     "output_type": "stream",
     "text": [
      "     Name   Age   Salary\n",
      "0     ram  22.0  22000.0\n",
      "1    ramu  24.0  20000.0\n",
      "2    mani  25.0  13000.0\n",
      "3   rahul  21.0      0.0\n",
      "4  swetha   0.0  14000.0\n"
     ]
    }
   ],
   "source": [
    "df_filled = df.fillna(0)\n",
    "print(df_filled)"
   ]
  },
  {
   "cell_type": "code",
   "execution_count": 50,
   "id": "8fd9884d",
   "metadata": {},
   "outputs": [
    {
     "data": {
      "image/png": "[encoded data removed]",
      "text/plain": [
       "<Figure size 640x480 with 1 Axes>"
      ]
     },
     "metadata": {},
     "output_type": "display_data"
    }
   ],
   "source": [
    "import matplotlib.pyplot as plt\n",
    "# Create a line plot\n",
    "df_filled.plot(x='Name',y='Age',kind='line')\n",
    "plt.show()"
   ]
  },
  {
   "cell_type": "code",
   "execution_count": 51,
   "id": "2dd7962a",
   "metadata": {},
   "outputs": [
    {
     "data": {
      "image/png": "[encoded data removed]",
      "text/plain": [
       "<Figure size 640x480 with 1 Axes>"
      ]
     },
     "metadata": {},
     "output_type": "display_data"
    }
   ],
   "source": [
    "df_filled.plot(x='Name',y='Age',kind='bar')\n",
    "plt.show()"
   ]
  },
  {
   "cell_type": "code",
   "execution_count": 38,
   "id": "2215ac48",
   "metadata": {},
   "outputs": [
    {
     "name": "stdout",
     "output_type": "stream",
     "text": [
      "     Name  Age  Salary\n",
      "0     ram   22   22000\n",
      "1    ramu   24   20000\n",
      "2    mani   25   13000\n",
      "3   rahul   21   15000\n",
      "4  swetha   22   14000\n",
      "---------------------------------\n",
      "   Name  Age  Salary\n",
      "0   ram   22   22000\n",
      "1  ravi   25   21000\n",
      "2  mahi   25   30000\n",
      "3   raj   21   17000\n",
      "4   sai   23   21000\n",
      "concatinated data\n",
      "     Name  Age  Salary\n",
      "0     ram   22   22000\n",
      "1    ramu   24   20000\n",
      "2    mani   25   13000\n",
      "3   rahul   21   15000\n",
      "4  swetha   22   14000\n",
      "0     ram   22   22000\n",
      "1    ravi   25   21000\n",
      "2    mahi   25   30000\n",
      "3     raj   21   17000\n",
      "4     sai   23   21000\n"
     ]
    }
   ],
   "source": [
    "emp={'Name': ['ram', 'ramu', 'mani', 'rahul','swetha'],\n",
    "        'Age': [22,24,25,21,22],\n",
    "        'Salary': [22000,20000,13000,15000,14000]}\n",
    "emp2={'Name': ['ram', 'ravi', 'mahi', 'raj','sai'],\n",
    "        'Age': [22,25,25,21,23],\n",
    "        'Salary': [22000,21000,30000,17000,21000]}\n",
    "w=pd.DataFrame(emp)\n",
    "q=pd.DataFrame(emp2)\n",
    "print(w)\n",
    "print('---------------------------------')\n",
    "print(q)\n",
    "print('concatinated data')\n",
    "conc_data = pd.concat([w,q])\n",
    "print(conc_data)\n"
   ]
  },
  {
   "cell_type": "code",
   "execution_count": 39,
   "id": "b08e9bd0",
   "metadata": {},
   "outputs": [
    {
     "name": "stdout",
     "output_type": "stream",
     "text": [
      "  Name  Age  Salary\n",
      "0  ram   22   22000\n"
     ]
    }
   ],
   "source": [
    "p=pd.merge(w,q)\n",
    "print(p)"
   ]
  },
  {
   "cell_type": "markdown",
   "id": "d6cedfe8",
   "metadata": {},
   "source": [
    "Pandas were used to manipulate data.firstly import pandas create an employee table with attributes name,age,salary.Next load that into pandas data frame and extracted second row using loc() method.\n",
    "Filtered data based on salary column which are less than 13000 were filtered out.sorted the data using values of name,salary next to that add gender column to the employee table and perform sort function on new table using salary column.Drop function was used to drop gender column, to drop labels from the index (0 or ‘index’) or columns (1 or ‘columns’) here axis=1 so column was dropped, drop[0] then zeroth row was dropped.Next the gender column was grouped and for the grouped data mean() was performed.Mean(),max(),min() functions were perfomed on sorted_df2 data.created another table emp2 and then using concat() the emp and emp2 were combined.Then using merge() the common rows in the two tables were given."
   ]
  }
 ],
 "metadata": {
  "kernelspec": {
   "display_name": "Python 3 (ipykernel)",
   "language": "python",
   "name": "python3"
  },
  "language_info": {
   "codemirror_mode": {
    "name": "ipython",
    "version": 3
   },
   "file_extension": ".py",
   "mimetype": "text/x-python",
   "name": "python",
   "nbconvert_exporter": "python",
   "pygments_lexer": "ipython3",
   "version": "3.9.13"
  }
 },
 "nbformat": 4,
 "nbformat_minor": 5
}
